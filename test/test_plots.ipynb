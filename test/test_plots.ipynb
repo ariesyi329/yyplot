{
 "metadata": {
  "name": "",
  "signature": "sha256:9142753af182fe3f47390fcf482ceec40a7508bdc983e0e123ef8a5ec5a17d09"
 },
 "nbformat": 3,
 "nbformat_minor": 0,
 "worksheets": [
  {
   "cells": [
    {
     "cell_type": "code",
     "collapsed": false,
     "input": [
      "import sys\n",
      "sys.path.append('../yyplot')"
     ],
     "language": "python",
     "metadata": {},
     "outputs": [],
     "prompt_number": 1
    },
    {
     "cell_type": "code",
     "collapsed": false,
     "input": [
      "from utility import axis_helper\n",
      "from utility import title_helper\n",
      "from utility import axis_label_helper\n",
      "from utility import background_helper\n",
      "from utility import legend_helper"
     ],
     "language": "python",
     "metadata": {},
     "outputs": [],
     "prompt_number": 2
    },
    {
     "cell_type": "code",
     "collapsed": false,
     "input": [
      "import numpy as np\n",
      "import pandas as pd\n",
      "import matplotlib.pyplot as plt\n",
      "import seaborn as sns\n",
      "%matplotlib inline"
     ],
     "language": "python",
     "metadata": {},
     "outputs": [],
     "prompt_number": 7
    },
    {
     "cell_type": "code",
     "collapsed": false,
     "input": [
      "#a function to draw personal style joint plot\n",
      "def jointplot(x, y, data=None, kind='hex', stat_func=None, maincolor='grey',\n",
      "              size=6, ratio=4, space=0.2, dropna=True, xlim=None, ylim=None,\n",
      "              xlabel=None, ylabel=None, style='ticks', hist_bins=30, hist_type='stepfilled',\n",
      "              hist_facecolor='grey', hist_edgecolor='grey', hist_alpha=0.3,\n",
      "              hist_kde=True, kde_color='grey', kde_linewidth=2, kde_linestyle='-', kde_alpha=0.7):\n",
      "    \n",
      "    \"\"\"\n",
      "    Attributes:\n",
      "    \n",
      "        @main:\n",
      "        x,y: data\n",
      "        data: dataframe when x, y are variable names\n",
      "        kind: main fig kind {\u201cscatter\u201d|\u201creg\u201d|\u201cresid\u201d|\u201ckde\u201d|\u201chex\u201d}\n",
      "        stat_func: stat functions\n",
      "        maincolor: color for main plot\n",
      "        size: figure size\n",
      "        ratio: ratio of joint fig to main fig\n",
      "        space: space between joint and main fig\n",
      "        dropna: If True, remove observations that are missing from x and y\n",
      "        {x, y}lim: Axis limits to set before plotting, e.g. {(1,100),(1,100)}\n",
      "        {x, y}label: label for x, y axis\n",
      "        style: joint fig axes style, None, or {\"darkgrid\"|\"whitegrid\"|\"dark\"|\"white\"|\"ticks\"}\n",
      "        \n",
      "        @hist:\n",
      "        hist_bins: bins\n",
      "        hist_type: {\"bar\"|\"barstacked\"|\"step\"|\"stepfilled\"}\n",
      "        hist_facecolor: face color of hist bars\n",
      "        hist_edgecolor: edge color of hist bars\n",
      "        hist_alpha: alpha of hist\n",
      "        \n",
      "        @kde:\n",
      "        hist_kde: if True, draw kde plot with hist\n",
      "        kde_color: color of kde plot\n",
      "        kde_linewidth: line width\n",
      "        kde_linestyle: {'-'|'--'|'-.'|':'|'None'|' '|''}\n",
      "        kde_alpha: alpha of kde\n",
      "    \n",
      "    Ref:\n",
      "        http://stanford.edu/%7Emwaskom/software/seaborn/generated/seaborn.jointplot.html?highlight=jointplot#seaborn.jointplot\n",
      "    \"\"\"\n",
      "    #fig = plt.figure()\n",
      "    #ax = fig.add_subplot(111)\n",
      "    \n",
      "    if xlabel is None:\n",
      "        xlabel = ''\n",
      "    if ylabel is None:\n",
      "        ylabel = ''\n",
      "    \n",
      "    sns.set(style=style)\n",
      "    g = sns.jointplot(x, y, data=data, kind=kind, stat_func=stat_func, color=maincolor, \n",
      "                      size=size, ratio=ratio, space=space, dropna=dropna, xlim=xlim, ylim=ylim,\n",
      "                      marginal_kws = {\"kde\":hist_kde, \n",
      "                                      \"bins\": hist_bins, \n",
      "                                      \"hist_kws\" : {\"histtype\": hist_type, \"facecolor\":hist_facecolor,\"edgecolor\":hist_edgecolor, \"alpha\" : hist_alpha},\n",
      "                                      \"kde_kws\" : {\"alpha\":kde_alpha, \"linewidth\":kde_linewidth, \"linestyle\":kde_linestyle, \"color\":kde_color}\n",
      "                                      }\n",
      "                      )\n",
      "    \n",
      "    g.set_axis_labels(xlabel,ylabel)\n",
      "    return g"
     ],
     "language": "python",
     "metadata": {},
     "outputs": [],
     "prompt_number": 8
    },
    {
     "cell_type": "code",
     "collapsed": false,
     "input": [
      "df = pd.DataFrame(np.random.rand(100, 2), columns=['A', 'B'])\n",
      "jointplot('A','B',df, kind='reg', xlim=(0,1), ylim=(0,1))"
     ],
     "language": "python",
     "metadata": {},
     "outputs": [
      {
       "metadata": {},
       "output_type": "pyout",
       "prompt_number": 12,
       "text": [
        "<seaborn.axisgrid.JointGrid at 0x10ffdb690>"
       ]
      },
      {
       "metadata": {},
       "output_type": "display_data",
       "png": "[encoded data removed]",
       "text": [
        "<matplotlib.figure.Figure at 0x10ffdb790>"
       ]
      }
     ],
     "prompt_number": 12
    },
    {
     "cell_type": "code",
     "collapsed": false,
     "input": [],
     "language": "python",
     "metadata": {},
     "outputs": []
    }
   ],
   "metadata": {}
  }
 ]
}